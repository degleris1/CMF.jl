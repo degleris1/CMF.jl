{
 "cells": [
  {
   "cell_type": "code",
   "execution_count": 45,
   "metadata": {},
   "outputs": [
    {
     "data": {
      "text/plain": [
       "set_size"
      ]
     },
     "execution_count": 45,
     "metadata": {},
     "output_type": "execute_result"
    }
   ],
   "source": [
    "using Revise\n",
    "using LinearAlgebra\n",
    "\n",
    "import PyCall; py = PyCall\n",
    "import StatsBase; stat = StatsBase\n",
    "import PyPlot; plt = PyPlot\n",
    "import CMF; cmf = CMF\n",
    "sep = CMF.Separable\n",
    "\n",
    "include(\"./sep_plot_settings.jl\")"
   ]
  },
  {
   "cell_type": "markdown",
   "metadata": {},
   "source": [
    "## Load data"
   ]
  },
  {
   "cell_type": "code",
   "execution_count": 30,
   "metadata": {},
   "outputs": [],
   "source": [
    "scipy_io = py.pyimport(\"scipy.io\")\n",
    "matfile = scipy_io.loadmat(\"../../cmf_data/MackeviciusData.mat\")\n",
    "neural = matfile[\"NEURAL\"];\n",
    "\n",
    "# plt.imshow(neural, aspect=5)\n",
    "# plt.grid(false)\n",
    "# plt.show()"
   ]
  },
  {
   "cell_type": "code",
   "execution_count": 39,
   "metadata": {},
   "outputs": [],
   "source": [
    "K = 3\n",
    "L = ceil(Int, 0.4 * Int(matfile[\"VIDEOfs\"][1]))\n",
    "train_test_split = floor(Int, 0.5 * size(neural, 2))\n",
    "\n",
    "neural_train = neural[:, 1:train_test_split]\n",
    "neural_test = neural[:, train_test_split+1:end];"
   ]
  },
  {
   "cell_type": "markdown",
   "metadata": {},
   "source": [
    "## Fit with HALS"
   ]
  },
  {
   "cell_type": "code",
   "execution_count": 58,
   "metadata": {},
   "outputs": [
    {
     "name": "stdout",
     "output_type": "stream",
     "text": [
      "Train error: 0.7374918512269535\n",
      "Test error: 0.8935492200319627\n",
      "Iterations: 52\n"
     ]
    }
   ],
   "source": [
    "rh = CMF.fit_cnmf(\n",
    "    neural_train, K=K, L=L, alg=:hals, \n",
    "    max_iter=Inf, max_time=5\n",
    ");\n",
    "\n",
    "println(\"Train error: \", cmf.evaluate_mse(rh))\n",
    "println(\"Test error: \", cmf.evaluate_test(rh, neural_test))\n",
    "println(\"Iterations: \", cmf.evaluate_convergence(rh))"
   ]
  },
  {
   "cell_type": "markdown",
   "metadata": {},
   "source": [
    "## Fit with LECS"
   ]
  },
  {
   "cell_type": "code",
   "execution_count": 60,
   "metadata": {},
   "outputs": [
    {
     "name": "stdout",
     "output_type": "stream",
     "text": [
      "Initial Train error: 0.9055557275411709\n",
      "----\n",
      "Train error: 0.733019131667818\n",
      "Test error: 0.8905240821002839\n",
      "Iterations: 11\n"
     ]
    }
   ],
   "source": [
    "rs = cmf.fit_cnmf(\n",
    "    neural_train, K=K, L=L, alg=:sep,\n",
    "    thresh=1,\n",
    "    refit_H=false,\n",
    "    refit_W=false,\n",
    "    verbose=false,\n",
    "    spectral=false\n",
    ");\n",
    "\n",
    "rsh = CMF.fit_cnmf(\n",
    "    neural_train, K=K, L=L, alg=:hals, \n",
    "    max_iter=Inf, max_time=5,\n",
    "    initW=rs.W, initH=rs.H\n",
    ");\n",
    "\n",
    "println(\"Initial Train error: \", cmf.evaluate_mse(rs))\n",
    "println(\"----\")\n",
    "println(\"Train error: \", cmf.evaluate_mse(rsh))\n",
    "println(\"Test error: \", cmf.evaluate_test(rsh, neural_test))\n",
    "println(\"Iterations: \", cmf.evaluate_convergence(rsh))"
   ]
  }
 ],
 "metadata": {
  "kernelspec": {
   "display_name": "Julia 1.1.0",
   "language": "julia",
   "name": "julia-1.1"
  },
  "language_info": {
   "file_extension": ".jl",
   "mimetype": "application/julia",
   "name": "julia",
   "version": "1.1.0"
  }
 },
 "nbformat": 4,
 "nbformat_minor": 2
}
