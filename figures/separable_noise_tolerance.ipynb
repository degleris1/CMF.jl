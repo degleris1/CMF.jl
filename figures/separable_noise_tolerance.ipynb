{
 "cells": [
  {
   "cell_type": "code",
   "execution_count": 1,
   "metadata": {},
   "outputs": [],
   "source": [
    "using PyPlot; plt = PyPlot\n",
    "using LinearAlgebra\n",
    "include(\"../src/separable.jl\");"
   ]
  },
  {
   "cell_type": "code",
   "execution_count": 2,
   "metadata": {},
   "outputs": [],
   "source": [
    "noise_levels = exp10.(range(-3, stop=3, length=50))\n",
    "n_tests = 100\n",
    "# thresh = 1e-2\n",
    ";"
   ]
  },
  {
   "cell_type": "markdown",
   "metadata": {},
   "source": [
    "### Fit "
   ]
  },
  {
   "cell_type": "code",
   "execution_count": null,
   "metadata": {
    "scrolled": false
   },
   "outputs": [],
   "source": [
    "scores = zeros(length(noise_levels))\n",
    "# recovery = zeros(length(noise_levels))\n",
    "\n",
    "for i in 1:length(noise_levels)\n",
    "    for j in 1:n_tests\n",
    "        data, tW, tH, (N, T, K, L) = generate_separable_data()\n",
    "        noisy_data = data + (noise_levels[i] * rand(N, T))\n",
    "        \n",
    "        estW, estH = fit_conv_separable(noisy_data, K, L,\n",
    "                                        verbose=false)\n",
    "        perm = permute_factors(tH, estH)\n",
    "        \n",
    "        scr = cos_score(estH[perm, :], tH)\n",
    "        scores[i] += scr\n",
    "#         if (scr >= 1 - thresh)\n",
    "#             recovery[i] += 1\n",
    "#         end\n",
    "    end\n",
    "end\n",
    "\n",
    "scores = scores / n_tests\n",
    "# recovery = recovery / n_tests\n",
    ";"
   ]
  },
  {
   "cell_type": "markdown",
   "metadata": {},
   "source": [
    "### Generate figures"
   ]
  },
  {
   "cell_type": "code",
   "execution_count": null,
   "metadata": {},
   "outputs": [],
   "source": [
    "# PLOT SETTINGS\n",
    "include(\"./sep_plot_settings.jl\")\n",
    "\n",
    "\n",
    "plt.figure(figsize=set_size(doc_textwidth))\n",
    "plt.plot(noise_levels, scores)\n",
    "plt.xscale(\"log\")\n",
    "plt.xlabel(\"Noise Level\")\n",
    "plt.ylabel(\"Average Cosine Score\")\n",
    "plt.title(\"LCS Performance on Random Unstructured Matrices\")\n",
    "plt.show()"
   ]
  }
 ],
 "metadata": {
  "kernelspec": {
   "display_name": "Julia 1.1.0",
   "language": "julia",
   "name": "julia-1.1"
  },
  "language_info": {
   "file_extension": ".jl",
   "mimetype": "application/julia",
   "name": "julia",
   "version": "1.1.0"
  }
 },
 "nbformat": 4,
 "nbformat_minor": 2
}
