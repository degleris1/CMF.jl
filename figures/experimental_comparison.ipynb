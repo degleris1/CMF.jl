{
 "cells": [
  {
   "cell_type": "code",
   "execution_count": 1,
   "metadata": {},
   "outputs": [
    {
     "name": "stderr",
     "output_type": "stream",
     "text": [
      "WARNING: replacing module WAVPlay.\n"
     ]
    }
   ],
   "source": [
    "import CMF\n",
    "import PyPlot; plt = PyPlot;\n",
    "import Random; Random.seed!(0);\n",
    "import JLD"
   ]
  },
  {
   "cell_type": "markdown",
   "metadata": {},
   "source": [
    "## Load datasets"
   ]
  },
  {
   "cell_type": "code",
   "execution_count": 2,
   "metadata": {},
   "outputs": [],
   "source": [
    "# Constants\n",
    "\n",
    "K, L = 10, 20\n",
    "PATH = \"/home/anthony/cmf_data/\"\n",
    "\n",
    "runtimes = Dict(\n",
    "    :maze => 20*60,\n",
    "    :piano => 30,  # 30\n",
    "    :drums => 30,  # 30\n",
    "    :voice => 30  # 30\n",
    ")\n",
    "labels = Dict(:hals => \"HALS\", :mult => \"MULT\", :anls => \"ANLS\")\n",
    "alg_list = [:hals, :mult, :anls]\n",
    ";"
   ]
  },
  {
   "cell_type": "code",
   "execution_count": 3,
   "metadata": {},
   "outputs": [],
   "source": [
    "datasets = Dict(\n",
    "    :maze => CMF.maze(\n",
    "        path=string(PATH, \"Achilles_10252013_sessInfo.mat\"),\n",
    "        epoch=nothing,\n",
    "        end_time=-1,\n",
    "        bin_time=5e-3,\n",
    "        kernel_width=2\n",
    "    ),\n",
    "    :piano => CMF.piano(),\n",
    "    :drums => CMF.drums_mix(),\n",
    "    :voice => CMF.female_voices()\n",
    ")\n",
    ";"
   ]
  },
  {
   "cell_type": "markdown",
   "metadata": {},
   "source": [
    "## Fit data"
   ]
  },
  {
   "cell_type": "code",
   "execution_count": null,
   "metadata": {},
   "outputs": [
    {
     "name": "stdout",
     "output_type": "stream",
     "text": [
      "Fitting drums\n",
      "Fitting piano\n"
     ]
    }
   ],
   "source": [
    "results = Dict()\n",
    "for key in keys(datasets)\n",
    "    results[key] = Dict()\n",
    "    println(string(\"Fitting \", key))\n",
    "    \n",
    "    for alg in alg_list\n",
    "        results[key][alg] = CMF.fit_cnmf(\n",
    "            datasets[key], alg=alg,\n",
    "            K=K, L=L, max_time=runtimes[key], max_itr=Inf\n",
    "        )\n",
    "    end\n",
    "end"
   ]
  },
  {
   "cell_type": "code",
   "execution_count": null,
   "metadata": {},
   "outputs": [],
   "source": [
    "JLD.save(\"./experimental_comparison.jld\", \"results\", results)"
   ]
  },
  {
   "cell_type": "markdown",
   "metadata": {},
   "source": [
    "## Plot loss histories"
   ]
  },
  {
   "cell_type": "code",
   "execution_count": null,
   "metadata": {},
   "outputs": [],
   "source": [
    "results = JLD.load(\"./experimental_comparison.jld\", \"results\");"
   ]
  },
  {
   "cell_type": "code",
   "execution_count": null,
   "metadata": {
    "scrolled": false
   },
   "outputs": [],
   "source": [
    "include(\"./plot_settings.jl\")\n",
    "\n",
    "# Plot\n",
    "\n",
    "fig, axes = plt.subplots(2, 2, figsize=set_size(doc_textwidth))\n",
    "key_list = [:maze, :piano, :drums, :voice]\n",
    "axes = [axes[1, 1], axes[1, 2], axes[2, 1], axes[2, 2]]\n",
    "for i in 1:4\n",
    "    key = key_list[i]\n",
    "    \n",
    "    for alg in alg_list\n",
    "        r = results[key][alg]\n",
    "        \n",
    "        if (i == 1)\n",
    "            label = labels[alg]\n",
    "        else\n",
    "            label = \"\"\n",
    "        end\n",
    "        \n",
    "        axes[i].plot(\n",
    "            r.time_hist, r.loss_hist,\n",
    "            label=label\n",
    "        )\n",
    "    end\n",
    "    axes[i].set_title(key, loc=\"right\", pad=-12)\n",
    "    println(key, size(datasets[key]))\n",
    "\n",
    "    if (i == 3 || i == 4)\n",
    "        axes[i].set_xlabel(\"Time (seconds)\")\n",
    "    end\n",
    "    if (i == 1 || i == 3)\n",
    "         axes[i].set_ylabel(\"Loss\")\n",
    "    end\n",
    "    plt.show()\n",
    "end\n",
    "\n",
    "plt.suptitle(\"Loss on experimental datasets\")\n",
    "fig.legend(loc=\"upper left\")\n",
    "plt.savefig(\"./experimental_comparison.pdf\", format=\"pdf\")"
   ]
  }
 ],
 "metadata": {
  "kernelspec": {
   "display_name": "Julia 1.1.0",
   "language": "julia",
   "name": "julia-1.1"
  },
  "language_info": {
   "file_extension": ".jl",
   "mimetype": "application/julia",
   "name": "julia",
   "version": "1.1.0"
  }
 },
 "nbformat": 4,
 "nbformat_minor": 2
}
