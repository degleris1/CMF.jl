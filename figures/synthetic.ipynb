{
 "cells": [
  {
   "cell_type": "code",
   "execution_count": 11,
   "metadata": {
    "collapsed": false
   },
   "outputs": [
    {
     "data": {
      "text/plain": [
       "synthetic_sequences"
      ]
     },
     "execution_count": 11,
     "metadata": {},
     "output_type": "execute_result"
    }
   ],
   "source": [
    "import CMF\n",
    "import PyPlot; plt = PyPlot;\n",
    "import Random; Random.seed!(0);\n",
    "import JLD\n",
    "include(\"../datasets/synthetic.jl\")"
   ]
  },
  {
   "cell_type": "code",
   "execution_count": 12,
   "metadata": {
    "collapsed": true
   },
   "outputs": [],
   "source": [
    "# Constants\n",
    "\n",
    "N = 250\n",
    "K, L = 3, 20\n",
    "alpha, p_h, sigma, noise_scale = 0.1, 0.5, 0.2, 1.0\n",
    "\n",
    "T_list = [500, 2500, 10_000, 50_000]\n",
    "runtimes = Dict(\n",
    "    500 => 30,\n",
    "    2500 => 60,\n",
    "    10_000 => 120,\n",
    "    50_000 => 240\n",
    ")\n",
    "\n",
    "alg_list = [:hals, :mult, :anls]\n",
    "labels = Dict(:hals => \"HALS\", :mult => \"MULT\", :anls => \"ANLS\")\n",
    "\n",
    "results = Dict()\n",
    ";"
   ]
  },
  {
   "cell_type": "markdown",
   "metadata": {},
   "source": [
    "## Generate synthetic datasets\n",
    "\n",
    "We wish to better understand the performance of each algorithm for varying sizes of $T$. \n",
    "Since some audio and neuroscience datasets may span long timeframes, fast algorithms for large datasets are necessary to usefully apply the convolutive NMF model.\n",
    "\n",
    "In these figures, we fix the number of rows (neurons) in $X$ to be `N=250`, and vary the number of columns (timebins) across 4 values: `T=500, T=2500, T=10000, T=50000`."
   ]
  },
  {
   "cell_type": "code",
   "execution_count": 14,
   "metadata": {
    "collapsed": false
   },
   "outputs": [],
   "source": [
    "data_list = Dict()\n",
    "\n",
    "for T in T_list\n",
    "    data, trueW, trueH = synthetic_sequences(\n",
    "        K=K, N=N, L=L, T=T,\n",
    "        alpha=0.1, p_h=0.5, sigma=0.2, noise_scale=1.0\n",
    "    )\n",
    "    data_list[T] = (data, trueW, trueH)\n",
    "end"
   ]
  },
  {
   "cell_type": "markdown",
   "metadata": {},
   "source": [
    "## Fit data"
   ]
  },
  {
   "cell_type": "code",
   "execution_count": null,
   "metadata": {
    "collapsed": false
   },
   "outputs": [],
   "source": [
    "# Run once to warmup algorithms\n",
    "for T in [500]\n",
    "    for alg in alg_list\n",
    "        CMF.fit_cnmf(data_list[T][1], alg=alg, max_itr=1)\n",
    "    end\n",
    "end\n",
    "\n",
    "for T in T_list\n",
    "    results[T] = Dict()\n",
    "    \n",
    "    for alg in alg_list\n",
    "        results[T][alg] = CMF.fit_cnmf(\n",
    "            data_list[T][1], alg=alg,\n",
    "            K=K, L=L, max_time=runtimes[T], max_itr=Inf\n",
    "        )\n",
    "    end\n",
    "end"
   ]
  },
  {
   "cell_type": "code",
   "execution_count": null,
   "metadata": {
    "collapsed": true
   },
   "outputs": [],
   "source": [
    "JLD.save(\"./synthetic_comparison.jld\", \"results\", results)"
   ]
  },
  {
   "cell_type": "markdown",
   "metadata": {},
   "source": [
    "## Plot loss histories"
   ]
  },
  {
   "cell_type": "code",
   "execution_count": null,
   "metadata": {
    "collapsed": true
   },
   "outputs": [],
   "source": [
    "results = JLD.load(\"./synthetic_comparison.jld\", \"results\");"
   ]
  },
  {
   "cell_type": "code",
   "execution_count": null,
   "metadata": {
    "collapsed": false,
    "scrolled": false
   },
   "outputs": [],
   "source": [
    "include(\"./plot_settings.jl\")\n",
    "\n",
    "# Plot\n",
    "\n",
    "fig, axes = plt.subplots(2, 2, figsize=set_size(doc_textwidth))\n",
    "axes = [axes[1, 1], axes[1, 2], axes[2, 1], axes[2, 2]]\n",
    "for i in 1:4\n",
    "    T = T_list[i]\n",
    "    \n",
    "    for alg in alg_list\n",
    "        r = results[T][alg]\n",
    "        \n",
    "        if (i == 1)\n",
    "            label = labels[alg]\n",
    "        else\n",
    "            label = \"\"\n",
    "        end\n",
    "        \n",
    "        axes[i].plot(\n",
    "            r.time_hist, r.loss_hist,\n",
    "            label=label\n",
    "        )\n",
    "    end\n",
    "    axes[i].set_title(string(\"T=\", T), loc=\"right\", pad=-12)\n",
    "\n",
    "    if (i == 3 || i == 4)\n",
    "        axes[i].set_xlabel(\"Time (seconds)\")\n",
    "    end\n",
    "    if (i == 1 || i == 3)\n",
    "         axes[i].set_ylabel(\"Loss\")\n",
    "    end\n",
    "    plt.show()\n",
    "end\n",
    "\n",
    "plt.suptitle(\"Loss on synthetic datasets\")\n",
    "fig.legend(loc=\"upper left\")\n",
    "plt.savefig(\"./synthetic_comparison.pdf\", format=\"pdf\")"
   ]
  },
  {
   "cell_type": "code",
   "execution_count": null,
   "metadata": {
    "collapsed": true
   },
   "outputs": [],
   "source": []
  }
 ],
 "metadata": {
  "anaconda-cloud": {},
  "kernelspec": {
   "display_name": "Julia 1.0.0",
   "language": "julia",
   "name": "julia-1.0"
  },
  "language_info": {
   "file_extension": ".jl",
   "mimetype": "application/julia",
   "name": "julia",
   "version": "1.0.0"
  }
 },
 "nbformat": 4,
 "nbformat_minor": 2
}
