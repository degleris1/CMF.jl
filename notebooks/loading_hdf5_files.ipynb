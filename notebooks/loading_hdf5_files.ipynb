{
 "cells": [
  {
   "cell_type": "code",
   "execution_count": 7,
   "metadata": {},
   "outputs": [],
   "source": [
    "import numpy as np\n",
    "import scipy as sp\n",
    "import scipy.io\n",
    "import h5py"
   ]
  },
  {
   "cell_type": "code",
   "execution_count": 8,
   "metadata": {},
   "outputs": [],
   "source": [
    "hf = h5py.File(\"/home/asd/data/mouse/analysis.mat\", 'r')"
   ]
  },
  {
   "cell_type": "code",
   "execution_count": 36,
   "metadata": {
    "scrolled": false
   },
   "outputs": [
    {
     "name": "stdout",
     "output_type": "stream",
     "text": [
      "<KeysViewHDF5 ['#refs#', '#subsystem#', 'analysisstruct']>\n",
      "ML_matobjs\n",
      "alg\n",
      "annot_reordered\n",
      "annot_reordered_matched\n",
      "annot_reordered_unique\n",
      "annotation_string\n",
      "annotation_vec\n",
      "candidate_features\n",
      "candidate_features_dotplot\n",
      "candidate_features_matched\n",
      "candidate_features_matched_dotplot\n",
      "cluster_lengths_perbout\n",
      "cluster_nums_inclust\n",
      "cluster_nums_inclust_indiv\n",
      "cluster_ratios\n",
      "clustering_filename\n",
      "clusternames\n",
      "clusternames_dynamics\n",
      "clusternames_file\n",
      "clusternames_fine\n",
      "clusternames_pose\n",
      "clusternames_quality\n",
      "clusternames_sorted\n",
      "clusternames_unsorted\n",
      "coarse_annotation_mat\n",
      "condition_inds\n",
      "conditionnames\n",
      "conditionnumbers\n",
      "conditions_to_run\n",
      "conditiontype\n",
      "conditiontypes_plot\n",
      "dendrogram_lines\n",
      "dendrogram_linkage\n",
      "density_cc\n",
      "density_maps\n",
      "density_objects\n",
      "density_stats\n",
      "density_watersheds\n",
      "example_inds_cond\n",
      "example_inds_cond_video\n",
      "filename\n",
      "filesizes\n",
      "foldername\n",
      "framecondition\n",
      "frames_with_good_tracking\n",
      "frames_with_good_tracking_dotplot\n",
      "jt_features\n",
      "jt_features_dotplot\n",
      "jtfeatures_agg\n",
      "matchedconds\n",
      "mocapnames\n",
      "mocapstruct_matobjs\n",
      "mocapstruct_reduced_agg\n",
      "move_flag\n",
      "numDims\n",
      "params\n",
      "pcaDims\n",
      "perplexity\n",
      "ratname\n",
      "reembed_clusters\n",
      "reembed_date\n",
      "reembed_filename\n",
      "reembed_flag\n",
      "sorted_clust_ind\n",
      "sorted_watershed\n",
      "structoutput\n",
      "structoutput_dotplot\n",
      "subsample_factor\n",
      "subset_of_points_to_plot_tsne_capped\n",
      "subset_of_points_to_plot_tsne_move\n",
      "theta\n",
      "timescale\n",
      "tsnefeat_name_dotplot\n",
      "tsnefeatname\n",
      "tsnegranularity\n",
      "unique_clusternames\n",
      "unique_clusternames_null\n",
      "unsorted_watershed\n",
      "velocities_clustertimes\n",
      "xx\n",
      "yy\n",
      "zValues\n",
      "zValues_reembed\n"
     ]
    }
   ],
   "source": [
    "print(hf.keys())\n",
    "for k in hf.get(\"analysisstruct\").keys():\n",
    "    print(k)"
   ]
  },
  {
   "cell_type": "code",
   "execution_count": 91,
   "metadata": {},
   "outputs": [
    {
     "ename": "KeyboardInterrupt",
     "evalue": "",
     "output_type": "error",
     "traceback": [
      "\u001b[0;31m---------------------------------------------------------------------------\u001b[0m",
      "\u001b[0;31mKeyboardInterrupt\u001b[0m                         Traceback (most recent call last)",
      "\u001b[0;32m<ipython-input-91-5f713dfe0e77>\u001b[0m in \u001b[0;36m<module>\u001b[0;34m\u001b[0m\n\u001b[1;32m      4\u001b[0m \u001b[0;34m\u001b[0m\u001b[0m\n\u001b[1;32m      5\u001b[0m \u001b[0;32mfor\u001b[0m \u001b[0me\u001b[0m \u001b[0;32min\u001b[0m \u001b[0mevents\u001b[0m\u001b[0;34m:\u001b[0m\u001b[0;34m\u001b[0m\u001b[0;34m\u001b[0m\u001b[0m\n\u001b[0;32m----> 6\u001b[0;31m     \u001b[0mlabels\u001b[0m \u001b[0;34m+=\u001b[0m \u001b[0;34m[\u001b[0m\u001b[0mhf\u001b[0m\u001b[0;34m[\u001b[0m\u001b[0me\u001b[0m\u001b[0;34m]\u001b[0m\u001b[0;34m.\u001b[0m\u001b[0mname\u001b[0m\u001b[0;34m]\u001b[0m\u001b[0;34m\u001b[0m\u001b[0;34m\u001b[0m\u001b[0m\n\u001b[0m\u001b[1;32m      7\u001b[0m \u001b[0;34m\u001b[0m\u001b[0m\n\u001b[1;32m      8\u001b[0m \u001b[0;31m#labels[1]\u001b[0m\u001b[0;34m\u001b[0m\u001b[0;34m\u001b[0m\u001b[0;34m\u001b[0m\u001b[0m\n",
      "\u001b[0;32mh5py/_objects.pyx\u001b[0m in \u001b[0;36mh5py._objects.with_phil.wrapper\u001b[0;34m()\u001b[0m\n",
      "\u001b[0;32mh5py/_objects.pyx\u001b[0m in \u001b[0;36mh5py._objects.with_phil.wrapper\u001b[0;34m()\u001b[0m\n",
      "\u001b[0;32m~/.julia/conda/3/lib/python3.7/site-packages/h5py/_hl/base.py\u001b[0m in \u001b[0;36mname\u001b[0;34m(self)\u001b[0m\n\u001b[1;32m    225\u001b[0m     \u001b[0;32mdef\u001b[0m \u001b[0mname\u001b[0m\u001b[0;34m(\u001b[0m\u001b[0mself\u001b[0m\u001b[0;34m)\u001b[0m\u001b[0;34m:\u001b[0m\u001b[0;34m\u001b[0m\u001b[0;34m\u001b[0m\u001b[0m\n\u001b[1;32m    226\u001b[0m         \u001b[0;34m\"\"\" Return the full name of this object.  None if anonymous. \"\"\"\u001b[0m\u001b[0;34m\u001b[0m\u001b[0;34m\u001b[0m\u001b[0m\n\u001b[0;32m--> 227\u001b[0;31m         \u001b[0;32mreturn\u001b[0m \u001b[0mself\u001b[0m\u001b[0;34m.\u001b[0m\u001b[0m_d\u001b[0m\u001b[0;34m(\u001b[0m\u001b[0mh5i\u001b[0m\u001b[0;34m.\u001b[0m\u001b[0mget_name\u001b[0m\u001b[0;34m(\u001b[0m\u001b[0mself\u001b[0m\u001b[0;34m.\u001b[0m\u001b[0mid\u001b[0m\u001b[0;34m)\u001b[0m\u001b[0;34m)\u001b[0m\u001b[0;34m\u001b[0m\u001b[0;34m\u001b[0m\u001b[0m\n\u001b[0m\u001b[1;32m    228\u001b[0m \u001b[0;34m\u001b[0m\u001b[0m\n\u001b[1;32m    229\u001b[0m     \u001b[0;34m@\u001b[0m\u001b[0mproperty\u001b[0m\u001b[0;34m\u001b[0m\u001b[0;34m\u001b[0m\u001b[0m\n",
      "\u001b[0;31mKeyboardInterrupt\u001b[0m: "
     ]
    }
   ],
   "source": [
    "events = hf[\"analysisstruct\"][\"clusternames_dynamics\"][:, 0]\n",
    "labels = []\n",
    "motifs = []\n",
    "\n",
    "for e in events:\n",
    "    labels += [hf[e].name]"
   ]
  },
  {
   "cell_type": "code",
   "execution_count": 111,
   "metadata": {},
   "outputs": [
    {
     "data": {
      "text/plain": [
       "array([[ 87],\n",
       "       [ 97],\n",
       "       [108],\n",
       "       [107]], dtype=uint16)"
      ]
     },
     "execution_count": 111,
     "metadata": {},
     "output_type": "execute_result"
    }
   ],
   "source": [
    "hf[\"analysisstruct\"][\"timescale\"][()]\n",
    "hf[hf[\"analysisstruct\"][\"clusternames\"][101][0]][()]"
   ]
  }
 ],
 "metadata": {
  "kernelspec": {
   "display_name": "Python 3",
   "language": "python",
   "name": "python3"
  },
  "language_info": {
   "codemirror_mode": {
    "name": "ipython",
    "version": 3
   },
   "file_extension": ".py",
   "mimetype": "text/x-python",
   "name": "python",
   "nbconvert_exporter": "python",
   "pygments_lexer": "ipython3",
   "version": "3.7.6"
  }
 },
 "nbformat": 4,
 "nbformat_minor": 4
}
