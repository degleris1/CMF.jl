{
 "cells": [
  {
   "cell_type": "code",
   "execution_count": 73,
   "metadata": {},
   "outputs": [],
   "source": [
    "using MAT\n",
    "using PyPlot; plt = PyPlot\n",
    "using CMF\n",
    "using LinearAlgebra"
   ]
  },
  {
   "cell_type": "code",
   "execution_count": 3,
   "metadata": {},
   "outputs": [
    {
     "data": {
      "text/plain": [
       "8-element Array{Any,1}:\n",
       " \"NSR\"      \n",
       " \"AFIB\"     \n",
       " \"APB\"      \n",
       " \"LBBB\"     \n",
       " \"AFL\"      \n",
       " \"Bigeminy\" \n",
       " \"Trigeminy\"\n",
       " \"RBBB\"     "
      ]
     },
     "execution_count": 3,
     "metadata": {},
     "output_type": "execute_result"
    }
   ],
   "source": [
    "path = \"/home/asd/data/heart/\"\n",
    "\n",
    "md_groups = matread(path * \"groups.mat\")\n",
    "groups = md_groups[\"groups\"]"
   ]
  },
  {
   "cell_type": "markdown",
   "metadata": {},
   "source": [
    "**Segment training data**"
   ]
  },
  {
   "cell_type": "code",
   "execution_count": 31,
   "metadata": {
    "scrolled": false
   },
   "outputs": [
    {
     "name": "stdout",
     "output_type": "stream",
     "text": [
      "length(train_labels) = 3556\n",
      "length(train_labels) = 3552\n"
     ]
    }
   ],
   "source": [
    "patchsize = 100\n",
    "patchskip = 50\n",
    "padsize = 100\n",
    "\n",
    "trd = Dict()\n",
    "\n",
    "for num_rows in [1, 64]\n",
    "    \n",
    "    train_patches = []\n",
    "    train_labels = []\n",
    "    train_user_tags =[]\n",
    "\n",
    "    for gr in groups\n",
    "        md_train = matread(\n",
    "            string(path, \"train/\", num_rows, gr, \".mat\")\n",
    "        )\n",
    "                \n",
    "        labels = md_train[\"labels\"]\n",
    "        data = md_train[\"data\"]\n",
    "        breaks = [md_train[\"breaks\"]; size(data, 2)+padsize]\n",
    "        \n",
    "        for i = 1:length(labels)\n",
    "            # Capture segment\n",
    "            first = breaks[i]\n",
    "            last = breaks[i+1] - padsize\n",
    "            segment = data[:, first:last]\n",
    "            \n",
    "            # Split segment\n",
    "            patch_splits = collect(1:patchskip:size(segment, 2)-patchsize)\n",
    "            \n",
    "            # Add patches to training data\n",
    "            for j = 1:length(patch_splits)\n",
    "                firstp = patch_splits[j]\n",
    "                lastp = firstp + patchsize\n",
    "                patch = segment[:, firstp:lastp]\n",
    "            \n",
    "                push!(train_patches, patch)\n",
    "                push!(train_labels, gr)\n",
    "                push!(train_user_tags, labels[i])\n",
    "            end\n",
    "        end\n",
    "    end\n",
    "    \n",
    "    @show length(train_labels)\n",
    "    \n",
    "    # Save data\n",
    "    results = Dict(\n",
    "            \"patches\" => train_patches,\n",
    "            \"labels\" => train_labels,\n",
    "            \"user_tags\" => train_user_tags,\n",
    "    )\n",
    "    matwrite(\n",
    "        string(path, \"classify/\", num_rows, \"train_patches.mat\"),\n",
    "        results\n",
    "    )\n",
    "    trd[num_rows] = results\n",
    "end"
   ]
  },
  {
   "cell_type": "markdown",
   "metadata": {},
   "source": [
    "**Segment test data**"
   ]
  },
  {
   "cell_type": "code",
   "execution_count": 32,
   "metadata": {
    "scrolled": false
   },
   "outputs": [
    {
     "name": "stdout",
     "output_type": "stream",
     "text": [
      "length(test_labels) = 934\n",
      "length(test_labels) = 934\n"
     ]
    }
   ],
   "source": [
    "ted = Dict()\n",
    "\n",
    "for num_rows in [1, 64]\n",
    "    \n",
    "    test_patches = []\n",
    "    test_labels = []\n",
    "    test_styles = []\n",
    "    test_user_tags = []\n",
    "    \n",
    "    for gr in groups\n",
    "        md_test = matread(\n",
    "            string(path, \"test/\", num_rows, gr, \".mat\")\n",
    "        )\n",
    "        \n",
    "        breaks = md_test[\"breaks\"]\n",
    "        segs = md_test[\"segs\"]\n",
    "        user = md_test[\"user\"]\n",
    "        \n",
    "        # Split up user\n",
    "        user_splits = 1:patchskip:size(user, 2)-patchsize\n",
    "        \n",
    "        for j = 1:length(user_splits)\n",
    "            firstp = user_splits[j]\n",
    "            lastp = firstp + patchsize\n",
    "            patch = user[:, firstp:lastp]\n",
    "            \n",
    "            push!(test_patches, patch)\n",
    "            push!(test_labels, gr)\n",
    "            push!(test_styles, \"user\")\n",
    "            push!(test_user_tags, 1)\n",
    "        end\n",
    "        \n",
    "        # Split up segments\n",
    "        for (segkey, seg) in segs\n",
    "            seg_splits = 1:patchskip:size(seg, 2)-patchsize\n",
    "            \n",
    "            for j = 1:length(seg_splits)\n",
    "                firstp = user_splits[j]\n",
    "                lastp = firstp + patchsize\n",
    "                patch = seg[:, firstp:lastp]\n",
    "                \n",
    "                push!(test_patches, patch)\n",
    "                push!(test_labels, gr)\n",
    "                push!(test_styles, \"seg\")\n",
    "                push!(test_user_tags, parse(Int64, segkey[2:end]))\n",
    "            end\n",
    "        end\n",
    "    end\n",
    "    \n",
    "    @show length(test_labels)\n",
    "    \n",
    "    # Save data\n",
    "    results = Dict(\n",
    "            \"patches\" => test_patches,\n",
    "            \"labels\" => test_labels,\n",
    "            \"styles\" => test_styles,\n",
    "            \"user_tags\" => test_user_tags,\n",
    "    )\n",
    "    matwrite(\n",
    "        string(path, \"classify/\", num_rows, \"test_patches.mat\"),\n",
    "        results\n",
    "    )\n",
    "    ted[num_rows] = results\n",
    "end"
   ]
  },
  {
   "cell_type": "markdown",
   "metadata": {},
   "source": [
    "**Evaluate algorithm using CMF**"
   ]
  },
  {
   "cell_type": "code",
   "execution_count": 261,
   "metadata": {},
   "outputs": [],
   "source": [
    "function compute_scores(patch, motifs, groups; beta=0.5, verbose=false)    \n",
    "    data = copy(patch)\n",
    "    if size(patch, 1) > 1  # preprocess spectrograms\n",
    "        data = data[2:end, :]\n",
    "        data = log.(data)\n",
    "        data[isnan.(data) .| isinf.(data)] .= 0\n",
    "        data .-= sum(data)/length(data)\n",
    "        data = max.(0, data)\n",
    "    end\n",
    "    \n",
    "    features = []\n",
    "    loss_scores = []\n",
    "    sparsity_scores = []\n",
    "    for W in motifs\n",
    "        H = evaluate_feature_maps(data, W, l1H=beta)\n",
    "        push!(loss_scores, CMF.compute_loss(data, W, H))\n",
    "        push!(sparsity_scores, sum(H))\n",
    "        push!(features, H)\n",
    "    end\n",
    "    \n",
    "    return loss_scores, sparsity_scores, features\n",
    "end\n",
    "\n",
    "mod = Dict()\n",
    "for num_rows in [1, 64]\n",
    "    \n",
    "    # Load motifs\n",
    "    mod[num_rows] = []\n",
    "    for gr in groups\n",
    "        md_results = matread(string(path, \"trainout/\", num_rows, gr, \"_1_30.mat\"))\n",
    "        push!(mod[num_rows], md_results[\"W\"])\n",
    "    end\n",
    "end"
   ]
  },
  {
   "cell_type": "code",
   "execution_count": 212,
   "metadata": {
    "scrolled": false
   },
   "outputs": [
    {
     "name": "stdout",
     "output_type": "stream",
     "text": [
      "AFL\n"
     ]
    },
    {
     "data": {
      "image/png": "[encoded data removed]",
      "text/plain": [
       "Figure(PyObject <Figure size 1200x400 with 8 Axes>)"
      ]
     },
     "metadata": {},
     "output_type": "display_data"
    },
    {
     "data": {
      "image/png": "[encoded data removed]",
      "text/plain": [
       "Figure(PyObject <Figure size 300x400 with 1 Axes>)"
      ]
     },
     "metadata": {},
     "output_type": "display_data"
    },
    {
     "name": "stdout",
     "output_type": "stream",
     "text": [
      "AFL\n"
     ]
    }
   ],
   "source": [
    "#### plt.figure()\n",
    "plt.figure(figsize=(12, 4))\n",
    "for i = 1:8\n",
    "    plt.subplot(1, 8, i)\n",
    "    plt.imshow(mod[64][i][:, :, 1]', origin=\"lower\", aspect=\"auto\")\n",
    "    plt.title(groups[i])\n",
    "    plt.yticks([])\n",
    "    plt.xticks([])\n",
    "end\n",
    "\n",
    "\n",
    "k = 504\n",
    "plt.figure(figsize=(3, 4))\n",
    "data = copy(ted[64][\"patches\"][k])\n",
    "data = data[2:end, :]\n",
    "data = log.(data)\n",
    "data[isnan.(data) .| isinf.(data)] .= 0\n",
    "data .-= sum(data)/length(data)\n",
    "data = max.(0, data)\n",
    "plt.imshow(data, origin=\"lower\", aspect=\"auto\")\n",
    "plt.title(ted[64][\"labels\"][k])\n",
    "plt.show()\n",
    "\n",
    "\n",
    "println(ted[64][\"labels\"][k])\n",
    "est, scores = classify(ted[64][\"patches\"][k], mod[64], groups, weight=0.35, verbose=false)\n",
    "println(est)\n",
    "\n",
    "\n",
    "#println(sum(esd[64] .== ted[64][\"labels\"]) / length(ted[64][\"labels\"]))"
   ]
  },
  {
   "cell_type": "code",
   "execution_count": 291,
   "metadata": {
    "scrolled": false
   },
   "outputs": [
    {
     "name": "stdout",
     "output_type": "stream",
     "text": [
      "Done!\n"
     ]
    }
   ],
   "source": [
    "# TODO use training data to set thresholds\n",
    "# train_lsc = []\n",
    "# train_ssc = []\n",
    "# train_feat = []\n",
    "\n",
    "nrows = 64\n",
    "patches = trd[nrows][\"patches\"]\n",
    "labels = trd[nrows][\"labels\"]\n",
    "motifs = mod[nrows]\n",
    "\n",
    "# @show length(labels)\n",
    "\n",
    "# for i = 1:length(labels)\n",
    "#     loss_scores, sparsity_scores, features = compute_scores(patches[i], motifs, groups)\n",
    "#     push!(train_lsc, loss_scores)\n",
    "#     push!(train_ssc, sparsity_scores)\n",
    "#     push!(train_feat, features)\n",
    "\n",
    "#     if i % 50 == 0\n",
    "#         print(i, \" - \")\n",
    "#     end\n",
    "# end\n",
    "\n",
    "train_class_results = Dict(\n",
    "    \"losses\" => train_lsc,\n",
    "    \"sparses\" => train_ssc,\n",
    "    \"features\" => train_feat,\n",
    "    \"labels\" => labels,\n",
    ")\n",
    "matwrite(\n",
    "     string(path, \"classify/\", nrows, \"train_class_results.mat\"),\n",
    "     train_class_results\n",
    ")\n",
    "println(\"Done!\")\n",
    "\n"
   ]
  },
  {
   "cell_type": "code",
   "execution_count": 280,
   "metadata": {
    "scrolled": false
   },
   "outputs": [],
   "source": [
    "# n = length(train_lsc)\n",
    "# colors = [\"g\", \"r\"]\n",
    "# for (k, gr) in enumerate(groups)\n",
    "#     losses = [sc[k] for sc in train_lsc[1:n]]\n",
    "#     sparses = [sc[k] for sc in train_ssc[1:n]]\n",
    "#     mask = labels[1:n] .== gr\n",
    "    \n",
    "#     plt.figure()\n",
    "#     plt.scatter(losses[.!mask], sparses[.!mask], color=\"r\", s=5)\n",
    "#     plt.scatter(losses[mask], sparses[mask], color=\"g\", s=5)\n",
    "#     plt.show()\n",
    "# end"
   ]
  },
  {
   "cell_type": "code",
   "execution_count": 293,
   "metadata": {},
   "outputs": [
    {
     "name": "stdout",
     "output_type": "stream",
     "text": [
      "50 - 100 - 150 - 200 - 250 - 300 - 350 - 400 - 450 - 500 - 550 - 600 - 650 - 700 - 750 - 800 - 850 - 900 - Done.\n"
     ]
    }
   ],
   "source": [
    "\n",
    "# Classify test data\n",
    "test_losses = []\n",
    "test_sparses = []\n",
    "test_features = []\n",
    "\n",
    "nrows = 64\n",
    "patches = ted[nrows][\"patches\"]\n",
    "labels = ted[nrows][\"labels\"]\n",
    "motifs = mod[nrows]\n",
    "\n",
    "\n",
    "for i = 1:length(labels)\n",
    "    losses, sparses, features = compute_scores(patches[i], motifs, groups)\n",
    "    \n",
    "    push!(test_losses, losses)\n",
    "    push!(test_sparses, sparses)\n",
    "    push!(test_features, features)\n",
    "    \n",
    "    if i % 50 == 0\n",
    "        print(i, \" - \")\n",
    "    end\n",
    "end\n",
    "println(\"Done.\")\n",
    "\n",
    "test_class_results = Dict(\n",
    "    \"losses\" => test_losses,\n",
    "    \"sparses\" => test_sparses,\n",
    "    \"features\" => test_features,\n",
    "    \"labels\" => labels\n",
    ")\n",
    "matwrite(\n",
    "     string(path, \"classify/\", nrows, \"test_class_results.mat\"),\n",
    "     test_class_results\n",
    ")\n"
   ]
  },
  {
   "cell_type": "code",
   "execution_count": 287,
   "metadata": {},
   "outputs": [
    {
     "data": {
      "text/plain": [
       "Base.KeySet for a Dict{String,Array{Any,1}} with 3 entries. Keys:\n",
       "  \"features\"\n",
       "  \"losses\"\n",
       "  \"sparses\""
      ]
     },
     "execution_count": 287,
     "metadata": {},
     "output_type": "execute_result"
    }
   ],
   "source": [
    "keys(test_class_results)"
   ]
  }
 ],
 "metadata": {
  "kernelspec": {
   "display_name": "Julia 1.3.1",
   "language": "julia",
   "name": "julia-1.3"
  },
  "language_info": {
   "file_extension": ".jl",
   "mimetype": "application/julia",
   "name": "julia",
   "version": "1.3.1"
  }
 },
 "nbformat": 4,
 "nbformat_minor": 4
}
