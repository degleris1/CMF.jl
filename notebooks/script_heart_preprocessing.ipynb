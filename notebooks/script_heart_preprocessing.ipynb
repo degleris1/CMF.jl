{
 "cells": [
  {
   "cell_type": "code",
   "execution_count": 1,
   "metadata": {},
   "outputs": [],
   "source": [
    "using MAT\n",
    "using PyPlot\n",
    "using LinearAlgebra\n",
    "using FFTW"
   ]
  },
  {
   "cell_type": "markdown",
   "metadata": {},
   "source": [
    "## Load data"
   ]
  },
  {
   "cell_type": "code",
   "execution_count": 2,
   "metadata": {},
   "outputs": [
    {
     "name": "stdout",
     "output_type": "stream",
     "text": [
      "Loading AFIB\n",
      "Loading AFL\n",
      "Loading APB\n",
      "Loading Bigeminy\n",
      "Loading LBBB\n",
      "Loading NSR\n",
      "Loading RBBB\n",
      "Loading Trigeminy\n"
     ]
    }
   ],
   "source": [
    "folders = [\n",
    "    (\"AFIB\", 6), (\"AFL\", 3), (\"APB\", 9), (\"Bigeminy\", 7),\n",
    "    (\"LBBB\", 3), (\"NSR\", 23), (\"RBBB\", 3), (\"Trigeminy\", 4)\n",
    "];\n",
    "\n",
    "data = Dict()\n",
    "\n",
    "for (name, num) in folders\n",
    "    println(\"Loading \", name)\n",
    "    for i = 1:num\n",
    "        data[(name, i)] = matread(string(\n",
    "                \"/home/asd/data/heart/\", name, \"/\", \n",
    "                lowercase(name), \"_\", i, \".mat\"\n",
    "        ))\n",
    "    end\n",
    "end"
   ]
  },
  {
   "cell_type": "markdown",
   "metadata": {},
   "source": [
    "## Join data\n",
    "\n",
    "* (1) Select individuals to leave out\n",
    "* (2) Select part of each dataset to leave out\n",
    "* (3) Concat data"
   ]
  },
  {
   "cell_type": "code",
   "execution_count": 3,
   "metadata": {},
   "outputs": [],
   "source": [
    "downsample_rate = 2\n",
    "padsize = 1000\n",
    "\n",
    "for (dt, dtname) in [\n",
    "        #(\"dat\", \"1\"),\n",
    "        #(\"spec_w_64\", \"32\"),\n",
    "        #(\"spec_w_128\", \"64\"),\n",
    "        (\"spec_w_256\", \"128\"),\n",
    "]   \n",
    "    train = []\n",
    "    testusers = Dict()\n",
    "    testsegs = Dict()\n",
    "    \n",
    "    for (group, num) in keys(data)\n",
    "        # Skip first individual per group\n",
    "        if num == 1\n",
    "            testusers[string(group, \"_\", num)] = data[(group, num)][dt]\n",
    "        end\n",
    "            \n",
    "        # Load signal\n",
    "        signal = data[(group, num)][dt]\n",
    "        pad = zeros(size(signal, 1), padsize)\n",
    "\n",
    "        # Downsample\n",
    "        signal = signal[:, 1:downsample_rate:end]\n",
    "        pad = pad[:, 1:downsample_rate:end]\n",
    "        \n",
    "        # Leave out a random 10% of the timebins\n",
    "        # for test set (and store that information)\n",
    "        T = size(signal, 2)\n",
    "        tstart = rand(1:T)\n",
    "        tend = min(T, tstart + floor(Int, T/10))\n",
    "       \n",
    "        testsegs[string(group, \"_\", num)] = signal[:, tstart:tend]\n",
    "        signal = [signal[:, 1:tstart] signal[:, tend:end]]     \n",
    "        \n",
    "        if length(train) == 0\n",
    "            train = signal\n",
    "        else\n",
    "            train = [train pad signal]\n",
    "        end\n",
    "    end\n",
    "    \n",
    "    # Save files\n",
    "    matwrite(\n",
    "        string(\"/home/asd/data/heart/train_\", dtname, \".mat\"),\n",
    "        Dict(\"signal\" => train)\n",
    "    )\n",
    "    matwrite(\n",
    "        string(\"/home/asd/data/heart/testusers_\", dtname, \".mat\"),\n",
    "        Dict(\"testusers\" => testusers)\n",
    "    )\n",
    "    matwrite(\n",
    "        string(\"/home/asd/data/heart/testsegs_\", dtname, \".mat\"),\n",
    "        Dict(\"testsegs\" => testsegs)\n",
    "    )\n",
    "end"
   ]
  },
  {
   "cell_type": "code",
   "execution_count": null,
   "metadata": {},
   "outputs": [],
   "source": [
    "# TODO preprocess spectrogram\n",
    "        # maybe do this remotely\n",
    "        # 1 - log transform\n",
    "        # 1.2 - demean\n",
    "        # 2 - remove neg decibels\n",
    "        # 3 - drop dc-ish rows\n",
    "        # 4 - normalize so that max value is 1\n",
    "\n",
    "keys(data[(\"NSR\", 1)])"
   ]
  }
 ],
 "metadata": {
  "kernelspec": {
   "display_name": "Julia 1.3.1",
   "language": "julia",
   "name": "julia-1.3"
  },
  "language_info": {
   "file_extension": ".jl",
   "mimetype": "application/julia",
   "name": "julia",
   "version": "1.3.1"
  }
 },
 "nbformat": 4,
 "nbformat_minor": 4
}
