{
 "cells": [
  {
   "cell_type": "code",
   "execution_count": 2,
   "metadata": {},
   "outputs": [],
   "source": [
    "using FFTW\n",
    "using LinearAlgebra\n",
    "using BenchmarkTools"
   ]
  },
  {
   "cell_type": "markdown",
   "metadata": {},
   "source": [
    "## Objective and stuff\n",
    "\n",
    "$$ \\min \\| M \\cdot ( X - \\hat X) \\|^2 $$\n",
    "\n",
    "\n",
    "$$ \\hat X = \\sum_\\ell W_\\ell H S_{\\ell-1} $$\n",
    "\n",
    "$$ \\hat X = \\sum_k W_k * h_k^T $$\n",
    "\n",
    "$$ (W * h^T)_{nt} = \\sum_{\\ell=1}^L W_{n \\ell} h_{t +1 - \\ell} $$"
   ]
  },
  {
   "cell_type": "code",
   "execution_count": 3,
   "metadata": {},
   "outputs": [],
   "source": [
    "function s_dot(Wl::Matrix, H::Matrix, lag)\n",
    "    K, T = size(H)\n",
    "\n",
    "    if (lag < 0)\n",
    "        return Wl * H[:, 1-lag:T]\n",
    "\n",
    "    else  # lag >= 0\n",
    "        return Wl * H[:, 1:T-lag]\n",
    "    end\n",
    "end\n",
    "\n",
    "function tensor_conv(W, H)\n",
    "    L, N, K = size(W)\n",
    "    T = size(H)[2]\n",
    "\n",
    "    pred = zeros(N, T)\n",
    "    for lag = 0:(L-1)\n",
    "        pred[:, lag+1:T] += s_dot(W[lag+1, :, :], H, lag)\n",
    "    end\n",
    "    return pred\n",
    "end\n",
    "\n",
    "N, T, L, K = 30, 50, 7, 2\n",
    "W = rand(L, N, K)\n",
    "H = rand(K, T)\n",
    "#H[:, end-L:end] .= 0\n",
    "\n",
    "X = tensor_conv(W, H);"
   ]
  },
  {
   "cell_type": "code",
   "execution_count": 4,
   "metadata": {},
   "outputs": [
    {
     "name": "stdout",
     "output_type": "stream",
     "text": [
      "size(Wpad) = (57, 30, 2)\n",
      "size(Hpad) = (2, 57)\n"
     ]
    }
   ],
   "source": [
    "# Zero pad H\n",
    "Hpad = [H zeros(K, L)]\n",
    "\n",
    "# Zero pad W\n",
    "Wpad = vcat(W, zeros(T, N, K))  # Potentially zero back\n",
    "\n",
    "@show size(Wpad)\n",
    "@show size(Hpad);"
   ]
  },
  {
   "cell_type": "code",
   "execution_count": 5,
   "metadata": {},
   "outputs": [
    {
     "name": "stdout",
     "output_type": "stream",
     "text": [
      "size(Hpadhat1) = (2, 57)\n",
      "size(Hpadhat2) = (2, 57)\n",
      "norm(Hpadhat1 - Hpadhat2) = 0.0\n"
     ]
    }
   ],
   "source": [
    "# Take fft of H\n",
    "Hpadhat1 = Array{Complex, 2}(undef, size(Hpad)...)\n",
    "for k = 1:K\n",
    "    Hpadhat1[k, :] = fft(Hpad[k, :])\n",
    "end\n",
    "Hpadhat2 = fft(Hpad, 2)\n",
    "\n",
    "@show size(Hpadhat1)\n",
    "@show size(Hpadhat2)\n",
    "@show norm(Hpadhat1 - Hpadhat2)\n",
    "\n",
    "ftH = Hpadhat2;"
   ]
  },
  {
   "cell_type": "code",
   "execution_count": 6,
   "metadata": {},
   "outputs": [
    {
     "name": "stdout",
     "output_type": "stream",
     "text": [
      "size(ftW1) = (57, 30, 2)\n",
      "size(ftW2) = (57, 30, 2)\n",
      "norm(ftW1 - ftW2) = 0.0\n"
     ]
    }
   ],
   "source": [
    "# Take fft of W\n",
    "ftW1 = Array{Complex, 3}(undef, size(Wpad)...)\n",
    "for k = 1:K\n",
    "    for n = 1:N\n",
    "        ftW1[:, n, k] = fft(Wpad[:, n, k])\n",
    "    end\n",
    "end\n",
    "ftW2 = fft(Wpad, 1)\n",
    "\n",
    "@show size(ftW1)\n",
    "@show size(ftW2)\n",
    "@show norm(ftW1 - ftW2)\n",
    "\n",
    "ftW = ftW2;"
   ]
  },
  {
   "cell_type": "code",
   "execution_count": 7,
   "metadata": {},
   "outputs": [
    {
     "name": "stdout",
     "output_type": "stream",
     "text": [
      "norm(X - ifftX) = 2.8061100569805064e-14\n"
     ]
    }
   ],
   "source": [
    "# Compute tensor conv\n",
    "ftX = Array{Complex{Float64}, 2}(undef, N, T+L)\n",
    "ftX .= 0.0\n",
    "\n",
    "for n = 1:N\n",
    "    for k = 1:K\n",
    "        ftX[n, :] .+= ftW[:, n, k] .* ftH[k, :]\n",
    "    end\n",
    "end\n",
    "\n",
    "ifftX = real.(ifft(ftX, 2))[:, 1:end-L]\n",
    "\n",
    "@show norm(X - ifftX);\n",
    "#@show norm(fft([X zeros(N, L)], 2) - ftX)\n",
    "\n",
    "\n",
    "#@show X[1, 1:20]\n",
    "#println()\n",
    "#@show ifftX[1, 1:20]\n",
    ";"
   ]
  },
  {
   "cell_type": "code",
   "execution_count": 8,
   "metadata": {},
   "outputs": [
    {
     "name": "stdout",
     "output_type": "stream",
     "text": [
      "norm(tensor_conv(W, H) - tensor_convft(W, H)) = 2.8061100569805064e-14\n",
      "  165.843 μs (36 allocations: 256.08 KiB)\n",
      "  2.513 ms (1295 allocations: 452.69 KiB)\n"
     ]
    }
   ],
   "source": [
    "function tensor_convft(W, H)\n",
    "    \n",
    "    ftW = fft(vcat(W, zeros(T, N, K)), 1)\n",
    "    ftH = fft([H zeros(K, L)], 2)\n",
    "    \n",
    "    ftX = Array{Complex{Float64}, 2}(undef, N, T+L)\n",
    "    ftX .= 0.0\n",
    "\n",
    "    for n = 1:N\n",
    "        for k = 1:K\n",
    "            @. ftX[n, :] += ftH[k, :] * ftW[:, n, k]\n",
    "        end\n",
    "    end\n",
    "    \n",
    "    return real.(ifft(ftX, 2))[:, 1:end-L]\n",
    "end\n",
    "\n",
    "@show norm(tensor_conv(W, H) - tensor_convft(W, H))\n",
    "\n",
    "@btime tensor_conv(W, H) samples=1\n",
    "@btime tensor_convft(W, H) samples=1\n",
    ";"
   ]
  },
  {
   "cell_type": "markdown",
   "metadata": {},
   "source": [
    "Say we want to find some $h$ to minimize\n",
    "\n",
    "$$ \\| x - T(w) h \\|^2 + \\| I h \\|^2$$\n",
    "\n",
    "\n",
    "$$ \\| \\hat x - \\hat w \\cdot \\hat h \\|^2 $$\n",
    "\n",
    "\n",
    "$$ \\hat h = \\frac{\\hat w}{\\hat x}$$\n",
    "\n",
    "\n",
    "when $$\\hat x \\neq 0$$."
   ]
  },
  {
   "cell_type": "code",
   "execution_count": 9,
   "metadata": {},
   "outputs": [
    {
     "data": {
      "text/plain": [
       "2×50 Array{Float64,2}:\n",
       " 0.00613676  NaN  NaN  NaN  NaN  NaN  …  NaN  NaN  NaN  -0.000666076  NaN\n",
       " 0.00535508  NaN  NaN  NaN  NaN  NaN     NaN  NaN  NaN  -0.000992962  NaN"
      ]
     },
     "execution_count": 9,
     "metadata": {},
     "output_type": "execute_result"
    }
   ],
   "source": [
    "# Solve LS for H\n",
    "# Set H = inv(W'W + 2I) * B\n",
    "#  in the fourier domain\n",
    "\n",
    "B = rand(K, T) .+ 3\n",
    "\n",
    "ftW = fft(vcat(zeros(L+T, N, K), W), 1)\n",
    "ftB = fft([zeros(K,L) B zeros(K,L)], 2)\n",
    "\n",
    "# Solve for each column of H via KxK LS\n",
    "ftH = Array{Complex{Float64}, 2}(undef, K, T+2*L)\n",
    "\n",
    "for t = 1:T\n",
    "    ftH[:, t] = (ftW[t, :, :]'ftW[t, :, :] .+ 2) \\ ftB[:, t]\n",
    "end\n",
    "\n",
    "iftH = real.(ifft(ftH)[:, 1:end-2L])"
   ]
  }
 ],
 "metadata": {
  "kernelspec": {
   "display_name": "Julia 1.3.1",
   "language": "julia",
   "name": "julia-1.3"
  },
  "language_info": {
   "file_extension": ".jl",
   "mimetype": "application/julia",
   "name": "julia",
   "version": "1.3.1"
  }
 },
 "nbformat": 4,
 "nbformat_minor": 4
}
