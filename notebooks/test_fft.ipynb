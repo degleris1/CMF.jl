{
 "cells": [
  {
   "cell_type": "code",
   "execution_count": 35,
   "metadata": {},
   "outputs": [],
   "source": [
    "using FFTW\n",
    "using LinearAlgebra\n",
    "using BenchmarkTools\n",
    "using Random\n",
    "using PyPlot"
   ]
  },
  {
   "cell_type": "markdown",
   "metadata": {},
   "source": [
    "## Objective and stuff\n",
    "\n",
    "$$ \\min \\| M \\cdot ( X - \\hat X) \\|^2 $$\n",
    "\n",
    "\n",
    "$$ \\hat X = \\sum_\\ell W_\\ell H S_{\\ell-1} $$\n",
    "\n",
    "$$ \\hat X = \\sum_k W_k * h_k^T $$\n",
    "\n",
    "$$ (W * h^T)_{nt} = \\sum_{\\ell=1}^L W_{n \\ell} h_{t +1 - \\ell} $$"
   ]
  },
  {
   "cell_type": "code",
   "execution_count": 10,
   "metadata": {},
   "outputs": [],
   "source": [
    "function s_dot(Wl::Matrix, H::Matrix, lag)\n",
    "    K, T = size(H)\n",
    "\n",
    "    if (lag < 0)\n",
    "        return Wl * H[:, 1-lag:T]\n",
    "\n",
    "    else  # lag >= 0\n",
    "        return Wl * H[:, 1:T-lag]\n",
    "    end\n",
    "end\n",
    "\n",
    "function tensor_conv(W, H)\n",
    "    L, N, K = size(W)\n",
    "    T = size(H)[2]\n",
    "\n",
    "    pred = zeros(N, T)\n",
    "    for lag = 0:(L-1)\n",
    "        pred[:, lag+1:T] += s_dot(W[lag+1, :, :], H, lag)\n",
    "    end\n",
    "    return pred\n",
    "end\n",
    "\n",
    "N, T, L, K = 1, 50, 7, 1\n",
    "W = rand(L, N, K)\n",
    "H = rand(K, T)\n",
    "H = [zeros(K, L) H zeros(K, L)]\n",
    "\n",
    "X = tensor_conv(W, H);"
   ]
  },
  {
   "cell_type": "code",
   "execution_count": 11,
   "metadata": {},
   "outputs": [
    {
     "name": "stdout",
     "output_type": "stream",
     "text": [
      "size(Wpad) = (64, 1, 1)\n",
      "size(H) = (1, 64)\n"
     ]
    }
   ],
   "source": [
    "# Zero pad H\n",
    "#Hpad = [H zeros(K, L)]\n",
    "\n",
    "# Zero pad W\n",
    "Wpad = vcat(W, zeros(T+L, N, K))  # Potentially zero back\n",
    "\n",
    "@show size(Wpad)\n",
    "@show size(H);"
   ]
  },
  {
   "cell_type": "code",
   "execution_count": 12,
   "metadata": {},
   "outputs": [
    {
     "name": "stdout",
     "output_type": "stream",
     "text": [
      "size(Hpadhat1) = (1, 64)\n",
      "size(Hpadhat2) = (1, 64)\n",
      "norm(Hpadhat1 - Hpadhat2) = 0.0\n"
     ]
    }
   ],
   "source": [
    "# Take fft of H\n",
    "Hpadhat1 = Array{Complex, 2}(undef, size(H)...)\n",
    "for k = 1:K\n",
    "    Hpadhat1[k, :] = fft(H[k, :])\n",
    "end\n",
    "Hpadhat2 = fft(H, 2)\n",
    "\n",
    "@show size(Hpadhat1)\n",
    "@show size(Hpadhat2)\n",
    "@show norm(Hpadhat1 - Hpadhat2)\n",
    "\n",
    "ftH = Hpadhat2;"
   ]
  },
  {
   "cell_type": "code",
   "execution_count": 13,
   "metadata": {},
   "outputs": [
    {
     "name": "stdout",
     "output_type": "stream",
     "text": [
      "size(ftW1) = (64, 1, 1)\n",
      "size(ftW2) = (64, 1, 1)\n",
      "norm(ftW1 - ftW2) = 0.0\n"
     ]
    }
   ],
   "source": [
    "# Take fft of W\n",
    "ftW1 = Array{Complex, 3}(undef, size(Wpad)...)\n",
    "for k = 1:K\n",
    "    for n = 1:N\n",
    "        ftW1[:, n, k] = fft(Wpad[:, n, k])\n",
    "    end\n",
    "end\n",
    "ftW2 = fft(Wpad, 1)\n",
    "\n",
    "@show size(ftW1)\n",
    "@show size(ftW2)\n",
    "@show norm(ftW1 - ftW2)\n",
    "\n",
    "ftW = ftW2;"
   ]
  },
  {
   "cell_type": "code",
   "execution_count": 14,
   "metadata": {},
   "outputs": [
    {
     "name": "stdout",
     "output_type": "stream",
     "text": [
      "norm(X - ifftX) = 2.5954060517554467e-15\n"
     ]
    }
   ],
   "source": [
    "# Compute tensor conv\n",
    "ftX = Array{Complex{Float64}, 2}(undef, N, T+2L)\n",
    "ftX .= 0.0\n",
    "\n",
    "for n = 1:N\n",
    "    for k = 1:K\n",
    "        ftX[n, :] .+= ftW[:, n, k] .* ftH[k, :]\n",
    "    end\n",
    "end\n",
    "\n",
    "ifftX = real.(ifft(ftX, 2))\n",
    "\n",
    "@show norm(X - ifftX);\n",
    "#@show norm(fft([X zeros(N, L)], 2) - ftX)\n",
    "\n",
    "\n",
    "#@show X[1, 1:20]\n",
    "#println()\n",
    "#@show ifftX[1, 1:20]\n",
    ";"
   ]
  },
  {
   "cell_type": "code",
   "execution_count": 15,
   "metadata": {},
   "outputs": [
    {
     "name": "stdout",
     "output_type": "stream",
     "text": [
      "norm(tensor_conv(W, H) - tensor_convft(W, H)) = 2.5954060517554467e-15\n"
     ]
    }
   ],
   "source": [
    "function tensor_convft(W, H)\n",
    "    \n",
    "    ftW = fft(vcat(W, zeros(T+L, N, K)), 1)\n",
    "    ftH = fft(H, 2)\n",
    "    \n",
    "    ftX = Array{Complex{Float64}, 2}(undef, N, T+2L)\n",
    "    ftX .= 0.0\n",
    "\n",
    "    for n = 1:N\n",
    "        for k = 1:K\n",
    "            @. ftX[n, :] += ftH[k, :] * ftW[:, n, k]\n",
    "        end\n",
    "    end\n",
    "    \n",
    "    return real.(ifft(ftX, 2))\n",
    "end\n",
    "\n",
    "@show norm(tensor_conv(W, H) - tensor_convft(W, H))\n",
    "\n",
    "#@btime tensor_conv(W, H) samples=1\n",
    "#@btime tensor_convft(W, H) samples=1\n",
    ";"
   ]
  },
  {
   "cell_type": "markdown",
   "metadata": {},
   "source": [
    "We'll start with $K=1, N=1$ and minimize $ \\| x - T(h) w \\|^2 + \\| I w \\|^2$, which has solution\n",
    "\n",
    "$$ w = (T(h)'T(h) + I)^{-1} T(h)' x.$$\n",
    "\n",
    "In the Fourier domain, this looks like\n",
    "\n",
    "$$ \\hat w = \\frac{ \\hat h^* \\cdot x }{ \\hat h^* \\cdot \\hat h + 1 }$$"
   ]
  },
  {
   "cell_type": "code",
   "execution_count": 96,
   "metadata": {},
   "outputs": [
    {
     "name": "stdout",
     "output_type": "stream",
     "text": [
      "W_primal = lsq_solve(H, X, L) = [0.36245235023722794 0.04506170503230661 0.18499883704680387 -0.04089896259325492 0.22756114944370734 0.1298186666715131 0.08168795026531633]\n",
      "(bigH * bigH' + I) \\ (bigH * X') = [0.362452350237228; 0.04506170503230653; 0.1849988370468041; -0.040898962593255005; 0.22756114944370745; 0.12981866667151248; 0.08168795026531675]\n"
     ]
    },
    {
     "data": {
      "text/plain": [
       "7×1 Array{Float64,2}:\n",
       "  0.362452350237228   \n",
       "  0.04506170503230653 \n",
       "  0.1849988370468041  \n",
       " -0.040898962593255005\n",
       "  0.22756114944370745 \n",
       "  0.12981866667151248 \n",
       "  0.08168795026531675 "
      ]
     },
     "execution_count": 96,
     "metadata": {},
     "output_type": "execute_result"
    }
   ],
   "source": [
    "function shift_cols(X::Matrix, lag)\n",
    "    T = size(X)[2]\n",
    "    \n",
    "    if (lag <= 0)\n",
    "        return X[:, 1-lag:T]\n",
    "\n",
    "    else  # lag > 0\n",
    "        return X[:, 1:T-lag]\n",
    "    end\n",
    "end\n",
    "\n",
    "function shift_and_stack(H::Matrix, L)\n",
    "    K, T = size(H)\n",
    "\n",
    "    H_stacked = zeros(L*K, T)\n",
    "    for lag = 0:(L-1)\n",
    "        H_stacked[1+K*lag:K*(lag+1), 1+lag:T] = shift_cols(H, lag)\n",
    "    end\n",
    "\n",
    "    return H_stacked\n",
    "end\n",
    "\n",
    "function lsq_solve(H, X, L)\n",
    "    bigH = shift_and_stack(H, L)\n",
    "    \n",
    "    A = [bigH'; I]\n",
    "    B = [X'; zeros(L)]\n",
    "    \n",
    "    return copy((A \\ B)')\n",
    "end\n",
    "\n",
    "Random.seed!(3)\n",
    "\n",
    "N, T, L, K = 1, 50, 7, 1\n",
    "W = rand(L, N, K)\n",
    "H = rand(K, T)\n",
    "H = [zeros(K, L) H zeros(K, L)]\n",
    "X = rand(N, T+2L)\n",
    "bigH = shift_and_stack(H, L)\n",
    "\n",
    "@show W_primal = lsq_solve(H, X, L)\n",
    "@show (bigH * bigH' + I) \\ (bigH * X')"
   ]
  },
  {
   "cell_type": "code",
   "execution_count": 114,
   "metadata": {},
   "outputs": [
    {
     "data": {
      "image/png": "[encoded data removed]",
      "text/plain": [
       "Figure(PyObject <Figure size 640x480 with 1 Axes>)"
      ]
     },
     "metadata": {},
     "output_type": "display_data"
    },
    {
     "name": "stdout",
     "output_type": "stream",
     "text": [
      "size(Xhat) = (1, 64)\n",
      "size(Hhat) = (1, 64)\n",
      "mindist = 0.3442497534147755\n"
     ]
    },
    {
     "data": {
      "text/plain": [
       "1-element Array{PyCall.PyObject,1}:\n",
       " PyObject <matplotlib.lines.Line2D object at 0x7f42dc3b1910>"
      ]
     },
     "execution_count": 114,
     "metadata": {},
     "output_type": "execute_result"
    }
   ],
   "source": [
    "# Solve LS for W in fourier domain\n",
    "Xhat = fft(X, 2)\n",
    "XhatT = conj.(Xhat)\n",
    "\n",
    "Hhat = fft(H, 2)\n",
    "HhatT = conj.(Hhat)\n",
    "\n",
    "@show size(Xhat)\n",
    "@show size(Hhat)\n",
    "\n",
    "#num = Hhat .* conj.(Xhat)\n",
    "#denom = Hhat .* conj.(Hhat)\n",
    "\n",
    "Whata = (HhatT .* Xhat) ./ (HhatT .* Hhat .+ 1)\n",
    "Whatb = (Hhat .* XhatT) ./ (Hhat .* HhatT .+ 1)\n",
    "\n",
    "Wext = real.(ifft(conj.(Whata), 2))\n",
    "\n",
    "mindist = Inf\n",
    "for t = 1:T-L+1\n",
    "    dist = norm(W_primal - Wext[:, t:t+L-1])\n",
    "    if dist < mindist\n",
    "        mindist = dist\n",
    "    end\n",
    "end\n",
    "\n",
    "@show mindist\n",
    "\n",
    "plot(Wext')\n",
    "plot(W_primal')"
   ]
  },
  {
   "cell_type": "code",
   "execution_count": null,
   "metadata": {},
   "outputs": [],
   "source": []
  },
  {
   "cell_type": "code",
   "execution_count": 24,
   "metadata": {},
   "outputs": [
    {
     "data": {
      "text/plain": [
       "1 - 2im"
      ]
     },
     "execution_count": 24,
     "metadata": {},
     "output_type": "execute_result"
    }
   ],
   "source": [
    "conj(1 + 2im)"
   ]
  }
 ],
 "metadata": {
  "kernelspec": {
   "display_name": "Julia 1.3.1",
   "language": "julia",
   "name": "julia-1.3"
  },
  "language_info": {
   "file_extension": ".jl",
   "mimetype": "application/julia",
   "name": "julia",
   "version": "1.3.1"
  }
 },
 "nbformat": 4,
 "nbformat_minor": 4
}
