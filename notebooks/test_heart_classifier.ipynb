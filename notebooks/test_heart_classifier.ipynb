{
 "cells": [
  {
   "cell_type": "code",
   "execution_count": 1,
   "metadata": {},
   "outputs": [],
   "source": [
    "using MAT\n",
    "using LinearAlgebra\n",
    "\n",
    "import PyPlot; plt = PyPlot;"
   ]
  },
  {
   "cell_type": "markdown",
   "metadata": {},
   "source": [
    "**Load data**"
   ]
  },
  {
   "cell_type": "code",
   "execution_count": 98,
   "metadata": {},
   "outputs": [
    {
     "data": {
      "text/plain": [
       "21-element Array{Float64,1}:\n",
       " 0.9754096706610791  \n",
       " 0.3258862891834057  \n",
       " 0.15605761944389415 \n",
       " 0.09135089020637074 \n",
       " 0.06855157816587056 \n",
       " 0.05772903303701199 \n",
       " 0.05083223793711657 \n",
       " 0.045320524309214794\n",
       " 0.041546251148105236\n",
       " 0.038376989498585846\n",
       " 0.03568729855772616 \n",
       " 0.03294689280982488 \n",
       " 0.031284826314929154\n",
       " 0.030426565137880838\n",
       " 0.02864769966087664 \n",
       " 0.027781500855696483\n",
       " 0.027215219063966956\n",
       " 0.025678303269271962\n",
       " 0.024890140295093666\n",
       " 0.024540341422640298\n",
       " 0.02434801650395916 "
      ]
     },
     "execution_count": 98,
     "metadata": {},
     "output_type": "execute_result"
    }
   ],
   "source": [
    "num_rows = 32\n",
    "sparsity = 0.5\n",
    "KL = \"_K20_L15_B\"\n",
    "folder = \"/home/asd/data/heart/results/\"\n",
    "filename = folder * \"train_\" * string(num_rows) * KL * string(sparsity) * \"_results.mat\"\n",
    "breakfilename = folder * \"breaks_\" * string(num_rows) * \".mat\"\n",
    "labelfilename = folder * \"order.mat\"\n",
    "datafilename = folder * \"train_\" * string(num_rows) * \".mat\"\n",
    "\n",
    "md_data = matread(datafilename)\n",
    "md_train = matread(filename)\n",
    "md_test = matread(string(filename[1:end-4], \"_usereval.mat\"))\n",
    "md_breaks = matread(breakfilename)\n",
    "md_labels = matread(labelfilename);\n",
    "\n",
    "md_train[\"loss_hist\"]"
   ]
  },
  {
   "cell_type": "code",
   "execution_count": 62,
   "metadata": {},
   "outputs": [],
   "source": [
    "traindata = md_data[\"signal\"]\n",
    "trainmap = md_train[\"H\"]\n",
    "trainbreaks = md_breaks[\"train_breaks\"]\n",
    "trainlabels = md_labels[\"trainorder\"]\n",
    "\n",
    "# Split labels into \n",
    "trainlabels = split.(trainlabels, \"_\")\n",
    "grouplabels = [label[1] for label in trainlabels]\n",
    "numlabels = [parse(Int64, label[2]) for label in trainlabels];"
   ]
  },
  {
   "cell_type": "code",
   "execution_count": 63,
   "metadata": {},
   "outputs": [],
   "source": [
    "padsize = 100\n",
    "\n",
    "# Associate each training user with their assigned feature map\n",
    "features = Dict()\n",
    "segments = Dict()\n",
    "push!(trainbreaks, size(trainmap, 2)+padsize)\n",
    "for i = 1:length(trainlabels)\n",
    "    group = grouplabels[i]\n",
    "    num = numlabels[i]\n",
    "        \n",
    "    start = trainbreaks[i]\n",
    "    last = trainbreaks[i+1]-padsize\n",
    "    features[(group, num)] = trainmap[:, start:last]\n",
    "    segments[(group, num)] = traindata[:, start:last]\n",
    "end"
   ]
  },
  {
   "cell_type": "markdown",
   "metadata": {},
   "source": [
    "**Zero-order classifier**\n",
    "\n",
    "Integrate and to training data."
   ]
  },
  {
   "cell_type": "code",
   "execution_count": 64,
   "metadata": {},
   "outputs": [],
   "source": [
    "# Set up weights for each group based on training data\n",
    "\n",
    "groups = unique(grouplabels)\n",
    "num_groups = length(unique(grouplabels))\n",
    "num_motifs = size(trainmap, 1)\n",
    "\n",
    "archetypes = Dict()\n",
    "for grp in groups\n",
    "    archetypes[grp] = zeros(num_motifs)\n",
    "end\n",
    "\n",
    "for (grp, num) in keys(features)\n",
    "    H = features[(grp, num)]\n",
    "    weight = sum(H, dims=2)\n",
    "    weight = weight / norm(weight)\n",
    "    \n",
    "    archetypes[grp] += weight\n",
    "end\n",
    "\n",
    "for grp in groups\n",
    "    archetypes[grp] /= norm(archetypes[grp])\n",
    "end\n",
    "\n",
    "archmat = zeros(num_groups, num_motifs)\n",
    "for (i, grp) in enumerate(groups)\n",
    "    archmat[i, :] = archetypes[grp]\n",
    "end"
   ]
  },
  {
   "cell_type": "code",
   "execution_count": 69,
   "metadata": {},
   "outputs": [
    {
     "name": "stdout",
     "output_type": "stream",
     "text": [
      "Eval: false\n",
      "AFIB - NSR\n",
      "\n",
      "Eval: false\n",
      "LBBB - NSR\n",
      "\n",
      "Eval: false\n",
      "NSR - APB\n",
      "\n",
      "Eval: false\n",
      "AFL - LBBB\n",
      "\n",
      "Eval: true\n",
      "APB - APB\n",
      "\n",
      "Eval: false\n",
      "RBBB - Bigeminy\n",
      "\n",
      "Eval: true\n",
      "Bigeminy - Bigeminy\n",
      "\n",
      "Eval: false\n",
      "Trigeminy - NSR\n",
      "\n"
     ]
    }
   ],
   "source": [
    "# Check train\n",
    "for (k, v) in md_test\n",
    "    weight = reshape(sum(v, dims=2), num_motifs)\n",
    "    weight /= norm(weight)\n",
    "    \n",
    "    estk = groups[argmax(archmat * weight)]\n",
    "    println(\"Eval: \", k[1:end-2] == estk)\n",
    "    println(k[1:end-2], \" - \", estk)\n",
    "    println()\n",
    "end"
   ]
  },
  {
   "cell_type": "markdown",
   "metadata": {},
   "source": [
    "Well that was bad..."
   ]
  },
  {
   "cell_type": "markdown",
   "metadata": {},
   "source": [
    "**Concatenate data within each group**"
   ]
  },
  {
   "cell_type": "code",
   "execution_count": 76,
   "metadata": {},
   "outputs": [
    {
     "data": {
      "image/png": "[encoded data removed]",
      "text/plain": [
       "PyPlot.Figure(PyObject <Figure size 640x480 with 1 Axes>)"
      ]
     },
     "metadata": {},
     "output_type": "display_data"
    },
    {
     "data": {
      "text/plain": [
       "PyObject <matplotlib.image.AxesImage object at 0x7fa276549a90>"
      ]
     },
     "execution_count": 76,
     "metadata": {},
     "output_type": "execute_result"
    }
   ],
   "source": [
    "for grp in groups\n",
    "    "
   ]
  },
  {
   "cell_type": "code",
   "execution_count": 97,
   "metadata": {},
   "outputs": [
    {
     "data": {
      "image/png": "[encoded data removed]",
      "text/plain": [
       "PyPlot.Figure(PyObject <Figure size 640x480 with 1 Axes>)"
      ]
     },
     "metadata": {},
     "output_type": "display_data"
    },
    {
     "data": {
      "text/plain": [
       "PyObject <matplotlib.image.AxesImage object at 0x7fa275ce9bd0>"
      ]
     },
     "execution_count": 97,
     "metadata": {},
     "output_type": "execute_result"
    }
   ],
   "source": [
    "plt.imshow(md_train[\"W\"][:, :, 20]', origin=\"auto\")"
   ]
  }
 ],
 "metadata": {
  "kernelspec": {
   "display_name": "Julia 1.3.1",
   "language": "julia",
   "name": "julia-1.3"
  },
  "language_info": {
   "file_extension": ".jl",
   "mimetype": "application/julia",
   "name": "julia",
   "version": "1.3.1"
  }
 },
 "nbformat": 4,
 "nbformat_minor": 4
}
