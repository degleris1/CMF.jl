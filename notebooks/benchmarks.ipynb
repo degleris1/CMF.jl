{
 "cells": [
  {
   "cell_type": "code",
   "execution_count": 89,
   "metadata": {},
   "outputs": [],
   "source": [
    "using LinearAlgebra\n",
    "using BenchmarkTools\n",
    "using Random\n",
    "using Profile\n",
    "using IterativeSolvers"
   ]
  },
  {
   "cell_type": "markdown",
   "metadata": {},
   "source": [
    "## Efficient convolution"
   ]
  },
  {
   "cell_type": "code",
   "execution_count": 87,
   "metadata": {},
   "outputs": [],
   "source": [
    "function sdot(Wl::Matrix{Float64}, H::Matrix{Float64}, lag::Int64)\n",
    "    K, T = size(H)\n",
    "\n",
    "    if (lag < 0)\n",
    "        return Wl * H[:, 1-lag:T]\n",
    "\n",
    "    else  # lag >= 0\n",
    "        return Wl * H[:, 1:T-lag]\n",
    "    end\n",
    "end\n",
    "\n",
    "function shift_cols(X::Matrix{Float64}, lag::Int64)\n",
    "    T = size(X)[2]\n",
    "    \n",
    "    if (lag <= 0)\n",
    "        return X[:, 1-lag:T]\n",
    "\n",
    "    else  # lag > 0\n",
    "        return X[:, 1:T-lag]\n",
    "    end\n",
    "end\n",
    "\n",
    "function shift_and_stack(H::Matrix{Float64}, L::Int64)\n",
    "    K, T = size(H)\n",
    "\n",
    "    H_stacked = zeros(L*K, T)\n",
    "    for lag = 0:(L-1)\n",
    "        H_stacked[1+K*lag:K*(lag+1), 1+lag:T] = shift_cols(H, lag)\n",
    "    end\n",
    "\n",
    "    return H_stacked\n",
    "end\n",
    "\n",
    "function unfold_W(W::Array{Float64, 3})\n",
    "    L, N, K = size(W)\n",
    "    return reshape(permutedims(W, [2, 3, 1]), N, L*K)\n",
    "end\n",
    "    \n",
    "\"\"\"Current implementation\"\"\"\n",
    "function tconv(W::Array{Float64, 3}, H::Matrix{Float64})\n",
    "    L, N, K = size(W)\n",
    "    T = size(H, 2)\n",
    "\n",
    "    pred = zeros(N, T)\n",
    "    for lag = 0:(L-1)\n",
    "        pred[:, lag+1:T] .+= sdot(W[lag+1, :, :], H, lag)\n",
    "    end\n",
    "    return pred\n",
    "end\n",
    "\n",
    "\"\"\"Row major ordering\"\"\"\n",
    "function tconv2(W::Array{Float64, 3}, H::Matrix{Float64})\n",
    "    N, K, L = size(W)\n",
    "    T = size(H, 2)\n",
    "    \n",
    "    pred = zeros(N, T)\n",
    "    @simd for lag = 0:(L-1)\n",
    "        @views @inbounds pred[:, lag+1:T] .+= W[:, :, lag+1] * H[:, 1:T-lag]\n",
    "    end\n",
    "    return pred\n",
    "end\n",
    "\n",
    "\"\"\"Block everything\"\"\"\n",
    "function tconv3(W::Array{Float64, 3}, H::Matrix{Float64}, L::Int64, K::Int64)\n",
    "    N, LK = size(W)\n",
    "    T = size(H, 2)\n",
    "    \n",
    "    return W * shift_and_stack(H, L)\n",
    "end\n",
    "\n",
    "\"\"\"Elementwise. (how to order loops?)\"\"\"\n",
    "function tconv4(W, H)\n",
    "    L, N, K = size(W)\n",
    "    T = size(H, 2)\n",
    "    \n",
    "    X = zeros(N, T)\n",
    "    for t = 1:T\n",
    "        for k = 1:K\n",
    "            for n = 1:N\n",
    "                for l = 1:min(L, t)\n",
    "                    X[n, t] += W[l, n, k] * H[k, t+1-l]\n",
    "                end\n",
    "            end\n",
    "        end\n",
    "    end\n",
    "    \n",
    "    return X\n",
    "end\n",
    "\n",
    "#\"\"\"TODO outer products\"\"\"\n",
    "Random.seed!(1234)\n",
    "\n",
    "N, T = 150, 1000\n",
    "K, L = 15, 100\n",
    "\n",
    "H = rand(K, T)\n",
    "\n",
    "Wlnk = rand(L, N, K)\n",
    "Wnkl = zeros(N, K, L)\n",
    "for n = 1:N\n",
    "    for k = 1:K\n",
    "        for l=1:L\n",
    "            Wnkl[n, k, l] = Wlnk[l, n, k]\n",
    "        end\n",
    "    end\n",
    "end\n",
    "\n",
    "Wstack = deepcopy(unfold_W(Wlnk));"
   ]
  },
  {
   "cell_type": "code",
   "execution_count": 88,
   "metadata": {},
   "outputs": [
    {
     "name": "stdout",
     "output_type": "stream",
     "text": [
      "  97.347 ms (802 allocations: 231.33 MiB)\n",
      "  57.672 ms (602 allocations: 109.95 MiB)\n",
      "  20.342 ms (204 allocations: 23.48 MiB)\n"
     ]
    }
   ],
   "source": [
    "@btime tconv($Wlnk, $H) samples=20\n",
    "@btime tconv2($Wnkl, $H) samples=20\n",
    "@btime tconv3($Wstack, $H, $L, $K) samples=20\n",
    "#@btime tconv4($Wlnk, $H) samples=20\n",
    ";"
   ]
  },
  {
   "cell_type": "markdown",
   "metadata": {},
   "source": [
    "## Efficient transpose-convolution"
   ]
  },
  {
   "cell_type": "code",
   "execution_count": 85,
   "metadata": {},
   "outputs": [],
   "source": [
    "function revshift_and_stack(X, L)\n",
    "    N, T = size(X)\n",
    "\n",
    "    Xstacked = zeros(L*N, T)\n",
    "    @simd for lag = 0:(L-1)\n",
    "        @views @inbounds Xstacked[1+N*lag:N*(lag+1), 1:T-lag] .= shift_cols(X, -lag)\n",
    "    end\n",
    "\n",
    "    return Xstacked\n",
    "end\n",
    "\n",
    "\"\"\"Block everything\"\"\"\n",
    "function tconvT(W, X, L, K)\n",
    "    N, LK = size(W)\n",
    "    T = size(H, 2)\n",
    "    \n",
    "    return W * revshift_and_stack(X, L)\n",
    "end\n",
    "\n",
    "\"\"\"Generic\"\"\"\n",
    "function tconvT2(W, X)\n",
    "    L, N, K = size(W)\n",
    "    T = size(X)[2]\n",
    "\n",
    "    result = zeros(K, T)\n",
    "    @simd for lag = 0:(L-1)\n",
    "        @inbounds result[:, 1:T-lag] .+= W[lag+1, :, :]' * shift_cols(X, -lag)\n",
    "    end\n",
    "\n",
    "    return result\n",
    "end\n",
    "\n",
    "\"\"\"Column major\"\"\"\n",
    "function tconvT3(W::Array{Float64, 3}, X::Matrix{Float64})\n",
    "    K, N, L = size(W)\n",
    "    T = size(X)[2]\n",
    "    \n",
    "    res = zeros(K, T)\n",
    "    @simd for lag = 0:(L-1)\n",
    "        @views @inbounds res[:, 1:T-lag] .+= W[:, :, lag+1] * X[:, 1+lag:T]\n",
    "    end\n",
    "    \n",
    "    return res\n",
    "end\n",
    "\n",
    "\"\"\"Precompute shift and stack\"\"\"\n",
    "function tconvT4(Wstack, Xstack)\n",
    "    return Wstack * Xstack\n",
    "end\n",
    "\n",
    "Random.seed!(1234)\n",
    "\n",
    "N, T = 150, 1000\n",
    "K, L = 15, 100\n",
    "\n",
    "X = rand(N, T)\n",
    "W = rand(L, N, K)\n",
    "Wc = deepcopy(reshape(W, N, K, L))\n",
    "Wcc = deepcopy(reshape(W, K, N, L))\n",
    "Wrevstack = deepcopy(reshape(W, K, N*L))\n",
    "Xstack = revshift_and_stack(X, L)\n",
    "result = zeros(K, T)\n",
    ";"
   ]
  },
  {
   "cell_type": "code",
   "execution_count": 86,
   "metadata": {},
   "outputs": [
    {
     "name": "stdout",
     "output_type": "stream",
     "text": [
      "  151.428 ms (305 allocations: 223.35 MiB)\n",
      "  67.270 ms (802 allocations: 132.41 MiB)\n",
      "  19.023 ms (602 allocations: 11.03 MiB)\n",
      "  18.364 ms (2 allocations: 117.27 KiB)\n"
     ]
    }
   ],
   "source": [
    "@btime tconvT($Wrevstack, $X, $L, $K) samples=20\n",
    "@btime tconvT2($W, $X) samples=20\n",
    "@btime tconvT3($Wcc, $X) samples=20\n",
    "@btime tconvT4($Wrevstack, $Xstack) samples=20\n",
    ";"
   ]
  },
  {
   "cell_type": "code",
   "execution_count": null,
   "metadata": {
    "scrolled": false
   },
   "outputs": [],
   "source": []
  },
  {
   "cell_type": "markdown",
   "metadata": {},
   "source": [
    "## Efficient Least Squares"
   ]
  },
  {
   "cell_type": "code",
   "execution_count": 182,
   "metadata": {},
   "outputs": [],
   "source": [
    "\"\"\"\n",
    "----------\n",
    "Updating W\n",
    "----------\n",
    "\"\"\"\n",
    "\n",
    "\"\"\"Generic backslash\"\"\"\n",
    "function lsqW(H, X, L)\n",
    "    A = shift_and_stack(H, L)'\n",
    "    B = X'\n",
    "    \n",
    "    return (A \\ B)'\n",
    "end\n",
    "\n",
    "\"\"\"Normal eqn backslash\"\"\"\n",
    "function lsqW_normal(H, X, L)\n",
    "    A = shift_and_stack(H, L)'\n",
    "    B = X'\n",
    "    AtA = A'A\n",
    "    AtB = A'B\n",
    "        \n",
    "    return (AtA \\ AtB)'\n",
    "end\n",
    "\n",
    "\n",
    "\"\"\"Conjugate gradient\"\"\"\n",
    "function lsqW_cg(H, X, L)\n",
    "    A = shift_and_stack(H, L)'\n",
    "    B = X'\n",
    "    AtA = A'A\n",
    "    AtB = A'B\n",
    "        \n",
    "    res = zeros(size(AtB))\n",
    "    for k = 1:K\n",
    "        res[:, k] .= cg(AtA, AtB[:, k], maxiter=50)\n",
    "    end\n",
    "    \n",
    "    return res'\n",
    "end\n",
    "\n",
    "#\"\"\"TODO Gradient descent\"\"\"\n",
    "#\"\"\"TODO Sketching\"\"\"\n",
    "Random.seed!(1234)\n",
    "\n",
    "N, T = 140, 1000\n",
    "K, L = 15, 99\n",
    "\n",
    "X = rand(N, T)\n",
    "H = rand(K, T)\n",
    ";"
   ]
  },
  {
   "cell_type": "code",
   "execution_count": 179,
   "metadata": {},
   "outputs": [
    {
     "data": {
      "text/plain": [
       "7.17804385340086"
      ]
     },
     "execution_count": 179,
     "metadata": {},
     "output_type": "execute_result"
    }
   ],
   "source": [
    "A = rand(100, 10)\n",
    "b = rand(100)\n",
    "\n",
    "norm((A \\ b) - (A'A \\ A'b))\n",
    "cond(A)"
   ]
  },
  {
   "cell_type": "code",
   "execution_count": 183,
   "metadata": {},
   "outputs": [
    {
     "name": "stdout",
     "output_type": "stream",
     "text": [
      "Backslash resid: 4.355072103562693e-13\n",
      "Normal eqn resid: 1.0670594419677653e-9\n",
      "Conj grad resid: 203.80252887809687\n"
     ]
    }
   ],
   "source": [
    "W1 = lsqW(H, X, L)\n",
    "W2 = lsqW_normal(H, X, L)\n",
    "W3 = lsqW_cg(H, X, L)\n",
    "\n",
    "println(\"Backslash resid: \", norm(W1 * shift_and_stack(H, L) - X))\n",
    "println(\"Normal eqn resid: \", norm(W2 * shift_and_stack(H, L) - X))\n",
    "println(\"Conj grad resid: \", norm(W3 * shift_and_stack(H, L) - X))\n",
    "\n",
    "# Problem is ill conditioned!"
   ]
  },
  {
   "cell_type": "code",
   "execution_count": 184,
   "metadata": {},
   "outputs": [
    {
     "name": "stdout",
     "output_type": "stream",
     "text": [
      "  980.552 ms (8247 allocations: 57.08 MiB)\n",
      "  240.199 ms (211 allocations: 58.95 MiB)\n"
     ]
    }
   ],
   "source": [
    "@btime lsqW($H, $X, $L) samples=1\n",
    "@btime lsqW_normal($H, $X, $L) samples=1\n",
    "#@btime lsqW_cg($H, $X, $L) samples=1\n",
    ";"
   ]
  }
 ],
 "metadata": {
  "kernelspec": {
   "display_name": "Julia 1.3.1",
   "language": "julia",
   "name": "julia-1.3"
  },
  "language_info": {
   "file_extension": ".jl",
   "mimetype": "application/julia",
   "name": "julia",
   "version": "1.3.1"
  }
 },
 "nbformat": 4,
 "nbformat_minor": 4
}
